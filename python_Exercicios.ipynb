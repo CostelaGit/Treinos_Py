{
  "nbformat": 4,
  "nbformat_minor": 0,
  "metadata": {
    "colab": {
      "provenance": [],
      "collapsed_sections": [
        "hDwpoQ_0Jrz9"
      ],
      "authorship_tag": "ABX9TyPv/N2YpdEakAdXJ0HIfdeK",
      "include_colab_link": true
    },
    "kernelspec": {
      "name": "python3",
      "display_name": "Python 3"
    },
    "language_info": {
      "name": "python"
    }
  },
  "cells": [
    {
      "cell_type": "markdown",
      "metadata": {
        "id": "view-in-github",
        "colab_type": "text"
      },
      "source": [
        "<a href=\"https://colab.research.google.com/github/CostelaGit/Treinos_Py/blob/main/python_Exercicios.ipynb\" target=\"_parent\"><img src=\"https://colab.research.google.com/assets/colab-badge.svg\" alt=\"Open In Colab\"/></a>"
      ]
    },
    {
      "cell_type": "markdown",
      "source": [
        "# Exercicios Sequencial\n",
        "\n"
      ],
      "metadata": {
        "id": "hDwpoQ_0Jrz9"
      }
    },
    {
      "cell_type": "markdown",
      "source": [
        "Faça um Programa que mostre a mensagem \"Alo mundo\" na tela."
      ],
      "metadata": {
        "id": "tUjDrGvuJ_4a"
      }
    },
    {
      "cell_type": "code",
      "execution_count": null,
      "metadata": {
        "id": "4bzRwCR1CfRr",
        "colab": {
          "base_uri": "https://localhost:8080/"
        },
        "outputId": "0072a907-4e8a-4526-dad6-7645e41a9246"
      },
      "outputs": [
        {
          "output_type": "stream",
          "name": "stdout",
          "text": [
            "alo mundo\n"
          ]
        }
      ],
      "source": [
        "print(\"alo mundo\")"
      ]
    },
    {
      "cell_type": "markdown",
      "source": [
        "Faça um Programa que peça um número e então mostre a mensagem O número informado foi [número]."
      ],
      "metadata": {
        "id": "P81OjrHWKJHY"
      }
    },
    {
      "cell_type": "code",
      "source": [
        "numero = int(input(\"digite um numero: \"))\n",
        "print(\"O número informado foi: \", numero)"
      ],
      "metadata": {
        "colab": {
          "base_uri": "https://localhost:8080/"
        },
        "id": "NTbTCJRaKK5n",
        "outputId": "0cdb3b43-e080-4dfa-e320-545445b818fb"
      },
      "execution_count": null,
      "outputs": [
        {
          "output_type": "stream",
          "name": "stdout",
          "text": [
            "digite um numero: 3\n",
            "O número informado foi:  3\n"
          ]
        }
      ]
    },
    {
      "cell_type": "markdown",
      "source": [
        "Faça um Programa que peça dois números e imprima a soma."
      ],
      "metadata": {
        "id": "bBuSDMo3Koo9"
      }
    },
    {
      "cell_type": "code",
      "source": [
        "numero1 = int(input(\"digite primeiro numero: \"))\n",
        "numero2 = int(input(\"digite segundo numero: \"))\n",
        "soma = numero1 + numero2\n",
        "print(\"A soma dos numeros informados foi: \", soma)"
      ],
      "metadata": {
        "colab": {
          "base_uri": "https://localhost:8080/"
        },
        "id": "ZxRaWiyRKwtr",
        "outputId": "fa1c986d-b99d-495e-f3ba-e32a4aafc3bd"
      },
      "execution_count": null,
      "outputs": [
        {
          "output_type": "stream",
          "name": "stdout",
          "text": [
            "digite primeiro numero: 3\n",
            "digite segundo numero: 2\n",
            "A soma dos numeros informados foi:  5\n"
          ]
        }
      ]
    },
    {
      "cell_type": "markdown",
      "source": [
        "Faça um Programa que peça as 4 notas bimestrais e mostre a média."
      ],
      "metadata": {
        "id": "jp5jF6XRByiN"
      }
    },
    {
      "cell_type": "code",
      "source": [
        "nota1 = float(input(\"insira a 1° nota: \"))\n",
        "nota2 = float(input(\"insira a 2° nota: \"))\n",
        "nota3 = float(input(\"insira a 3° nota: \"))\n",
        "nota4 = float(input(\"insira a 4° nota: \"))\n",
        "\n",
        "media = (nota1 + nota2 + nota3 + nota4)/4\n",
        "\n",
        "print(\"a media é: \", media)"
      ],
      "metadata": {
        "colab": {
          "base_uri": "https://localhost:8080/"
        },
        "id": "y7ZiCmbPB29M",
        "outputId": "08d049ac-2641-4545-ca85-d83aba1f11db"
      },
      "execution_count": null,
      "outputs": [
        {
          "output_type": "stream",
          "name": "stdout",
          "text": [
            "insira a 1° nota: 6.5\n",
            "insira a 2° nota: 2.7\n",
            "insira a 3° nota: 10.0\n",
            "insira a 4° nota: 8.6\n",
            "a media é:  6.949999999999999\n"
          ]
        }
      ]
    },
    {
      "cell_type": "markdown",
      "source": [
        "Faça um Programa que converta metros para centímetros."
      ],
      "metadata": {
        "id": "-kOvspdoKchV"
      }
    },
    {
      "cell_type": "code",
      "source": [
        "metros = float(input(\"digite quantos metros: \"))\n",
        "metros_em_cm = metros * 100\n",
        "print(\"metros: %f \\nConvertido em centimetros: %f\" % (metros,metros_em_cm))"
      ],
      "metadata": {
        "colab": {
          "base_uri": "https://localhost:8080/"
        },
        "id": "zciWu5uhKghW",
        "outputId": "bf521b2e-37d1-41ee-d436-c681cb73b82e"
      },
      "execution_count": null,
      "outputs": [
        {
          "output_type": "stream",
          "name": "stdout",
          "text": [
            "digite quantos metros: 1\n",
            "metros: 1.000000 \n",
            "Convertido em centimetros: 100.000000\n"
          ]
        }
      ]
    },
    {
      "cell_type": "markdown",
      "source": [
        "Faça um Programa que peça o raio de um círculo, calcule e mostre sua área"
      ],
      "metadata": {
        "id": "nyeKWr-mLnxS"
      }
    },
    {
      "cell_type": "code",
      "source": [
        "raio = float(input(\"digite o tamanho do raio do circulo: \"))\n",
        "area = 3.14 * raio**2\n",
        "print(\"A área do circulo é: \", area)"
      ],
      "metadata": {
        "colab": {
          "base_uri": "https://localhost:8080/"
        },
        "id": "Fnx42ph7Lopg",
        "outputId": "476ce0dd-6309-4dc4-9dd5-e6eb826f8753"
      },
      "execution_count": null,
      "outputs": [
        {
          "output_type": "stream",
          "name": "stdout",
          "text": [
            "digite o tamanho do raio do circulo: 4\n",
            "A área do circulo é:  50.24\n"
          ]
        }
      ]
    },
    {
      "cell_type": "markdown",
      "source": [
        "Faça um Programa que calcule a área de um quadrado, em seguida mostre o dobro desta área para o usuário."
      ],
      "metadata": {
        "id": "6NFC-rvIMeV6"
      }
    },
    {
      "cell_type": "code",
      "source": [
        "lado = float(input(\"digite o lado do quadrado: \"))\n",
        "area_q = lado**2\n",
        "area_q2 = area_q * 2\n",
        "print(\"O dobro da área do quadrado é: \", area_q2)"
      ],
      "metadata": {
        "colab": {
          "base_uri": "https://localhost:8080/"
        },
        "id": "kty2GSM0MfOr",
        "outputId": "0e8b7583-8365-4dbd-ba66-be6fbc00d155"
      },
      "execution_count": null,
      "outputs": [
        {
          "output_type": "stream",
          "name": "stdout",
          "text": [
            "digite o lado do quadrado: 2\n",
            "O dobro da área do quadrado é:  8.0\n"
          ]
        }
      ]
    },
    {
      "cell_type": "markdown",
      "source": [
        "Faça um Programa que pergunte quanto você ganha por hora e o número de horas trabalhadas no mês. Calcule e mostre o total do seu salário no referido mês."
      ],
      "metadata": {
        "id": "lwH4p1rnOTUl"
      }
    },
    {
      "cell_type": "code",
      "source": [
        "por_hora = float(input(\"digite o quanto você ganha por hora: \"))\n",
        "num_hora = float(input(\"digite o número de horas trabalhadas no mês: \"))\n",
        "salario = por_hora * num_hora\n",
        "print(\"seu salário no mês é: \", salario)"
      ],
      "metadata": {
        "colab": {
          "base_uri": "https://localhost:8080/"
        },
        "id": "EmNXZTefOWLD",
        "outputId": "1721a833-399c-4580-9307-6bee55079d7e"
      },
      "execution_count": null,
      "outputs": [
        {
          "output_type": "stream",
          "name": "stdout",
          "text": [
            "digite o quanto você ganha por hora: 72.2\n",
            "digite o número de horas trabalhadas no mês: 180\n",
            "seu salário no mês é:  12996.0\n"
          ]
        }
      ]
    },
    {
      "cell_type": "markdown",
      "source": [
        "Faça um Programa que peça a temperatura em graus Fahrenheit, transforme e mostre a temperatura em graus Celsius.\n",
        "C = 5 * ((F-32) / 9)."
      ],
      "metadata": {
        "id": "vbwXTICoTqHJ"
      }
    },
    {
      "cell_type": "code",
      "source": [
        "graus_f = float(input(\"digite a temperatura em graus Fahrenheit: \"))\n",
        "graus_c = 5 * ((graus_f - 32) / 9)\n",
        "print(\"a temperatura transformada em graus Celsius: \", graus_c)"
      ],
      "metadata": {
        "colab": {
          "base_uri": "https://localhost:8080/"
        },
        "id": "9gKWweavTrQo",
        "outputId": "3605a4fb-d255-4099-8d23-967e04ccbfd9"
      },
      "execution_count": null,
      "outputs": [
        {
          "output_type": "stream",
          "name": "stdout",
          "text": [
            "digite a temperatura em graus Fahrenheit: 120\n",
            "a temperatura transformada em graus Celsius:  48.88888888888889\n"
          ]
        }
      ]
    },
    {
      "cell_type": "markdown",
      "source": [
        "Faça um Programa que peça a temperatura em graus Celsius, transforme e mostre em graus Fahrenheit."
      ],
      "metadata": {
        "id": "xy3_DBDbUgZC"
      }
    },
    {
      "cell_type": "code",
      "source": [
        "graus_c = float(input(\"digite a temperatura em graus Celsius: \"))\n",
        "graus_f = (graus_c * 9 / 5) + 32\n",
        "print(\"a temperatura transformada em graus Fahrenheit: \", graus_f)"
      ],
      "metadata": {
        "colab": {
          "base_uri": "https://localhost:8080/"
        },
        "id": "MlrPzqk-Ugzq",
        "outputId": "8f8644d9-ff89-4154-bdc3-231701dc2ca5"
      },
      "execution_count": null,
      "outputs": [
        {
          "output_type": "stream",
          "name": "stdout",
          "text": [
            "digite a temperatura em graus Celsius: 94\n",
            "a temperatura transformada em graus Fahrenheit:  201.2\n"
          ]
        }
      ]
    },
    {
      "cell_type": "markdown",
      "source": [
        "Faça um Programa que peça 2 números inteiros e um número real. Calcule e mostre:\n",
        "*   O produto do dobro do primeiro com metade do segundo.\n",
        "*   a soma do triplo do primeiro com o terceiro.\n",
        "*   o terceiro elevado ao cubo\n"
      ],
      "metadata": {
        "id": "vc-jNRYwVmsF"
      }
    },
    {
      "cell_type": "code",
      "source": [
        "num_1 = int(input(\"digite o primeiro numero inteiro: \"))\n",
        "num_2 = int(input(\"digite o segundo numero inteiro: \"))\n",
        "num_3 = float(input(\"digite o terceiro numero real: \"))\n",
        "\n",
        "q1 = (num_1 * 2) * (num_2 / 2)\n",
        "q2 = (num_1 * 3) + (num_3 * 3)\n",
        "q3 = num_3**3\n",
        "print(\"resposta da primeira questão: \", q1)\n",
        "print(\"resposta da segunda questão: \", q2)\n",
        "print(\"resposta da terceira questão: \", q3)"
      ],
      "metadata": {
        "colab": {
          "base_uri": "https://localhost:8080/"
        },
        "id": "2T1AGcVUV_BZ",
        "outputId": "4491cf7d-5ab2-4e8a-a7e8-dc803b43709c"
      },
      "execution_count": null,
      "outputs": [
        {
          "output_type": "stream",
          "name": "stdout",
          "text": [
            "digite o primeiro numero inteiro: 2\n",
            "digite o segundo numero inteiro: 2\n",
            "digite o terceiro numero real: 2.5\n",
            "resposta da primeira questão:  4.0\n",
            "resposta da segunda questão:  13.5\n",
            "resposta da terceira questão:  15.625\n"
          ]
        }
      ]
    },
    {
      "cell_type": "markdown",
      "source": [
        "Tendo como dados de entrada a altura de uma pessoa, construa um algoritmo que calcule seu peso ideal, usando a seguinte fórmula: (72.7*altura) - 58"
      ],
      "metadata": {
        "id": "-H64ncAKYzqE"
      }
    },
    {
      "cell_type": "code",
      "source": [
        "altura = float(input(\"digite a altura: \"))\n",
        "peso_ideal = (72.7 * altura) - 58\n",
        "print(\"Seu peso ideal é: \", peso_ideal)"
      ],
      "metadata": {
        "colab": {
          "base_uri": "https://localhost:8080/"
        },
        "id": "spGiudI2Y0Oz",
        "outputId": "1284bff3-4380-490c-f6df-6c9fac6db2f7"
      },
      "execution_count": null,
      "outputs": [
        {
          "output_type": "stream",
          "name": "stdout",
          "text": [
            "digite a altura: 1.52\n",
            "Seu peso ideal é:  52.504000000000005\n"
          ]
        }
      ]
    },
    {
      "cell_type": "markdown",
      "source": [
        "Tendo como dado de entrada a altura (h) de uma pessoa, construa um algoritmo que calcule seu peso ideal, utilizando as seguintes fórmulas:\n",
        "* Para homens: (72.7*h) - 58\n",
        "* Para mulheres: (62.1*h) - 44.7"
      ],
      "metadata": {
        "id": "-17e0xVCZYyD"
      }
    },
    {
      "cell_type": "code",
      "source": [
        "altura = float(input(\"digite a altura: \"))\n",
        "peso_ideal_h = (72.7 * altura) - 58\n",
        "peso_ideal_m = (62.1 * altura - 44.7)\n",
        "\n",
        "print(\"se você for homem seu peso ideal é: \", peso_ideal_h)\n",
        "print(\"se você for mulher seu peso ideal é: \", peso_ideal_m)"
      ],
      "metadata": {
        "colab": {
          "base_uri": "https://localhost:8080/"
        },
        "id": "XFYzg9PcZbkj",
        "outputId": "8ba8e47c-087d-435d-a3c0-e3421d616f8d"
      },
      "execution_count": null,
      "outputs": [
        {
          "output_type": "stream",
          "name": "stdout",
          "text": [
            "digite a altura: 1.65\n",
            "se você for homem seu peso ideal é:  61.955\n",
            "se você for mulher seu peso ideal é:  57.765\n"
          ]
        }
      ]
    },
    {
      "cell_type": "markdown",
      "source": [
        "João Papo-de-Pescador, homem de bem, comprou um microcomputador para controlar o rendimento diário de seu trabalho. Toda vez que ele traz um peso de peixes maior que o estabelecido pelo regulamento de pesca do estado de São Paulo (50 quilos) deve pagar uma multa de R$ 4,00 por quilo excedente. João precisa que você faça um programa que leia a variável peso (peso de peixes) e calcule o excesso. Gravar na variável excesso a quantidade de quilos além do limite e na variável multa o valor da multa que João deverá pagar. Imprima os dados do programa com as mensagens adequadas."
      ],
      "metadata": {
        "id": "SXr5rmShZ6-0"
      }
    },
    {
      "cell_type": "code",
      "source": [
        "peso = float(input(\"digite o peso do peixe: \\n\"))\n",
        "if peso > 50:\n",
        "  print(\"peso maior que o regulamento permite \\nMulta deverá ser aplicada\")\n",
        "  excesso = peso - 50\n",
        "  multa = excesso * 4\n",
        "  print(\"o excesso é de: \", excesso)\n",
        "  print(\"a multa é de: \", multa)"
      ],
      "metadata": {
        "colab": {
          "base_uri": "https://localhost:8080/"
        },
        "id": "-TGbyipjZ7oc",
        "outputId": "966b46f0-fa36-470a-f8f6-a5102de46165"
      },
      "execution_count": null,
      "outputs": [
        {
          "output_type": "stream",
          "name": "stdout",
          "text": [
            "digite o peso do peixe: \n",
            "55\n",
            "peso maior que o regulamento permite \n",
            "Multa deverá ser aplicada\n",
            "o excesso é de:  5.0\n",
            "a multa é de:  20.0\n"
          ]
        }
      ]
    },
    {
      "cell_type": "markdown",
      "source": [
        "Faça um Programa que pergunte quanto você ganha por hora e o número de horas trabalhadas no mês. Calcule e mostre o total do seu salário no referido mês, sabendo-se que são descontados 11% para o Imposto de Renda, 8% para o INSS e 5% para o sindicato, faça um programa que nos dê:\n",
        "salário bruto.\n",
        "quanto pagou ao INSS.\n",
        "quanto pagou ao sindicato.\n",
        "o salário líquido.\n",
        "calcule os descontos e o salário líquido, conforme a tabela:![image.png](data:image/png;base64,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)\n"
      ],
      "metadata": {
        "id": "QggB0jh2bwg9"
      }
    },
    {
      "cell_type": "code",
      "source": [
        "por_hora = float(input(\"Digite o quanto você ganha por hora:\"))\n",
        "num_h = float(input(\"Digite a quantidade de horas trabalhadas no mês: \"))\n",
        "salário_bruto = por_hora * num_h\n",
        "IR = salário_bruto * 0.11\n",
        "INSS = salário_bruto * 0.08\n",
        "SINDICATO = salário_bruto * 0.05\n",
        "descontos = IR + INSS + SINDICATO\n",
        "Salario_liquido = salário_bruto - descontos\n",
        "\n",
        "print(\"Meu RH\\n+ Salário Bruto : R$ %f\\n- IR (11) : R$ %f\\n- INSS (8) : R$ %f\\n- Sindicato (5) : R$ %f\\n= Salário Liquido : R$ %f\" % (salário_bruto, IR, INSS, SINDICATO,Salario_liquido))"
      ],
      "metadata": {
        "id": "E9zsLuTPb671",
        "colab": {
          "base_uri": "https://localhost:8080/"
        },
        "outputId": "d51d28d7-b15c-494f-925b-661c9dd1ce91"
      },
      "execution_count": null,
      "outputs": [
        {
          "output_type": "stream",
          "name": "stdout",
          "text": [
            "Digite o quanto você ganha por hora:42\n",
            "Digite a quantidade de horas trabalhadas no mês: 20\n",
            "Meu RH\n",
            "+ Salário Bruto : R$ 840.000000\n",
            "- IR (11) : R$ 92.400000\n",
            "- INSS (8) : R$ 67.200000\n",
            "- Sindicato (5) : R$ 42.000000\n",
            "= Salário Liquido : R$ 638.400000\n"
          ]
        }
      ]
    },
    {
      "cell_type": "markdown",
      "source": [
        "Faça um programa para uma loja de tintas. O programa deverá pedir o tamanho em metros quadrados da área a ser pintada. Considere que a cobertura da tinta é de 1 litro para cada 3 metros quadrados e que a tinta é vendida em latas de 18 litros, que custam R$ 80,00. Informe ao usuário a quantidades de latas de tinta a serem compradas e o preço total."
      ],
      "metadata": {
        "id": "2A777NBJeXuT"
      }
    },
    {
      "cell_type": "code",
      "source": [
        "print(\"LG TINTAS\\n\")\n",
        "# 54 = 18 l = 1 lata\n",
        "area_pintada = float(input(\"digite o tamanho em metros quadrados da área a ser pintada: \"))\n",
        "cobertura_tinta =  area_pintada / 3\n",
        "print(\"\\nquantos litros de tintas serão utilizados: \",cobertura_tinta)\n",
        "latas_t = cobertura_tinta / 18\n",
        "print(\"\\nlatas a serem usadas: \",latas_t)\n",
        "\n",
        "preço = latas_t * 80\n",
        "print(\"preço: R$\", preço)"
      ],
      "metadata": {
        "id": "nGI_5hQXeYcq",
        "colab": {
          "base_uri": "https://localhost:8080/"
        },
        "outputId": "a38ef679-bec3-4885-d769-1aa893ac5500"
      },
      "execution_count": null,
      "outputs": [
        {
          "output_type": "stream",
          "name": "stdout",
          "text": [
            "LG TINTAS\n",
            "\n",
            "digite o tamanho em metros quadrados da área a ser pintada: 108\n",
            "\n",
            "quantos litros de tintas serão utilizados:  36.0\n",
            "\n",
            "latas a serem usadas:  2.0\n",
            "preço: R$ 160.0\n"
          ]
        }
      ]
    },
    {
      "cell_type": "markdown",
      "source": [
        "Faça um Programa para uma loja de tintas. O programa deverá pedir o tamanho em metros quadrados da área a ser pintada. Considere que a cobertura da tinta é de 1 litro para cada 6 metros quadrados e que a tinta é vendida em latas de 18 litros, que custam R$ 80,00 ou em galões de 3,6 litros, que custam Rs   25,00.\n",
        "Informe ao usuário as quantidades de tinta a serem compradas e os respectivos preços em 3 situações:\n",
        "* comprar apenas latas de 18 litros;\n",
        "* comprar apenas galões de 3,6 litros;\n",
        "* ***misturar latas e galões, de forma que o desperdício de tinta seja menor. Acrescente 10% de folga e sempre arredonde os valores para cima, isto é, considere latas cheias.***"
      ],
      "metadata": {
        "id": "ENtnMegJeYvR"
      }
    },
    {
      "cell_type": "code",
      "source": [
        "print(\"LG TINTAS\")\n",
        "\n",
        "# 108m = 18l = 1Lata\n",
        "#entrada do usuario\n",
        "area_pintada = float(input(\"Digite o tamanho em metros quadrados da área a ser pintada: \"))\n",
        "\n",
        "#calculos\n",
        "cobert_t = area_pintada / 6\n",
        "latas_t = cobert_t / 18\n",
        "galoes_t = cobert_t / 3.6\n",
        "\n",
        "#apresentação para o usuario\n",
        "print(\"\\ncobertura da tinta (1L|6m²): \", cobert_t)\n",
        "print(\"\\nValor Unitario: R$80.00\\nlatas (fechadas): \", latas_t)\n",
        "print(\"\\nValor Unitario: R$25.00\\nGalões (fechados): \", galoes_t)"
      ],
      "metadata": {
        "id": "ccXt7VckemPZ",
        "colab": {
          "base_uri": "https://localhost:8080/"
        },
        "outputId": "8b5c9618-60d3-446e-d89c-5e8db1a9a837"
      },
      "execution_count": null,
      "outputs": [
        {
          "output_type": "stream",
          "name": "stdout",
          "text": [
            "LG TINTAS\n",
            "Digite o tamanho em metros quadrados da área a ser pintada: 58\n",
            "\n",
            "cobertura da tinta (1L|6m²):  9.666666666666666\n",
            "\n",
            "Valor Unitario: R$80.00\n",
            "latas (fechadas):  0.537037037037037\n",
            "\n",
            "Valor Unitario: R$25.00\n",
            "Galões (fechados):  2.685185185185185\n"
          ]
        }
      ]
    },
    {
      "cell_type": "markdown",
      "source": [
        "Faça um programa que peça o tamanho de um arquivo para download (em MB) e a velocidade de um link de Internet (em Mbps), calcule e informe o tempo aproximado de download do arquivo usando este link (em minutos)."
      ],
      "metadata": {
        "id": "iUmZYxXTevau"
      }
    },
    {
      "cell_type": "code",
      "source": [],
      "metadata": {
        "id": "snY0qYnLew94"
      },
      "execution_count": null,
      "outputs": []
    },
    {
      "cell_type": "markdown",
      "source": [
        "# Exercicios De Decisão\n",
        "\n"
      ],
      "metadata": {
        "id": "9ElJSwAVZ3QI"
      }
    },
    {
      "cell_type": "markdown",
      "source": [
        "Faça um Programa que peça dois números e imprima o maior deles."
      ],
      "metadata": {
        "id": "cgvnFsk6mr9c"
      }
    },
    {
      "cell_type": "code",
      "source": [
        "num_1 = int(input(\"digite o primeiro numero: \"))\n",
        "num_2 = int(input(\"digite o segundo numero: \"))\n",
        "if num_1 > num_2:\n",
        "  print(\"maior numero: \",num_1)\n",
        "else:\n",
        "  print(\"maior numero: \",num_2)"
      ],
      "metadata": {
        "id": "p3Yw_4jAZ-0W"
      },
      "execution_count": null,
      "outputs": []
    },
    {
      "cell_type": "markdown",
      "source": [
        "Faça um Programa que peça um valor e mostre na tela se o valor é positivo ou negativo."
      ],
      "metadata": {
        "id": "bd5Zpu1Pnou3"
      }
    },
    {
      "cell_type": "code",
      "source": [
        "num_1 = int(input(\"Digite o valor: \"))\n",
        "if num_1 >= 0:\n",
        "  print(\"numero é: %d\\nvalor é positivo\" % (num_1))\n",
        "else:\n",
        "  print(\"numero é: %d\\nvalor é negativo\" % (num_1))"
      ],
      "metadata": {
        "id": "SX0mKOkun1FZ"
      },
      "execution_count": null,
      "outputs": []
    },
    {
      "cell_type": "markdown",
      "source": [
        "Faça um Programa que verifique se uma letra digitada é \"F\" ou \"M\". Conforme a letra escrever: F - Feminino, M - Masculino, Sexo Inválido."
      ],
      "metadata": {
        "id": "djzJkeuwoo2B"
      }
    },
    {
      "cell_type": "code",
      "source": [
        "sexo = input(\"digite F ou M: \")\n",
        "if sexo == 'F':\n",
        "  print(\"Feminino\")\n",
        "elif sexo == 'M':\n",
        "  print(\"Masculino\")\n",
        "else:\n",
        "  print(\"Sexo Inválido\")"
      ],
      "metadata": {
        "id": "tbVqAhcgoqRo"
      },
      "execution_count": null,
      "outputs": []
    },
    {
      "cell_type": "markdown",
      "source": [
        "Faça um Programa que verifique se uma letra digitada é vogal ou consoante."
      ],
      "metadata": {
        "id": "GiQykrIzqhzJ"
      }
    },
    {
      "cell_type": "code",
      "source": [
        "a = input(\"informe uma letra: consoante ou vogal: \")\n",
        "if a == 'a':\n",
        "  print(\"a letra informada é uma vogal\")\n",
        "elif a == 'e':\n",
        "  print(\"a letra informada é uma vogal\")\n",
        "elif a == 'i':\n",
        "  print(\"a letra informada é uma vogal\")\n",
        "elif a == 'o':\n",
        "  print(\"a letra informada é uma vogal\")\n",
        "elif a == 'u':\n",
        "  print(\"a letra informada é uma vogal\")\n",
        "else:\n",
        "  print(\"a letra informada é uma consoante\")"
      ],
      "metadata": {
        "id": "Zr-2UbaiqiN3"
      },
      "execution_count": null,
      "outputs": []
    },
    {
      "cell_type": "markdown",
      "source": [
        "Faça um programa para a leitura de duas notas parciais de um aluno. O programa deve calcular a média alcançada por aluno e apresentar:\n",
        "* A mensagem \"Aprovado\", se a média alcançada for maior ou igual a sete;\n",
        "* A mensagem \"Reprovado\", se a média for menor do que sete;\n",
        "* A mensagem \"Aprovado com Distinção\", se a média for igual a dez."
      ],
      "metadata": {
        "id": "RkEAKCIRrq_T"
      }
    },
    {
      "cell_type": "code",
      "source": [
        "nota1 = int(input(\"digite a primeira nota parcial: \"))\n",
        "nota2 = int(input(\"digite a segunda nota parcial: \"))\n",
        "\n",
        "if (nota1 + nota2) / 2 >= 7:\n",
        "  print(\"Aprovado\")\n",
        "  if (nota1 + nota2) /2  == 10:\n",
        "    print(\"Aprovado com Distinção\")\n",
        "else:\n",
        "  print(\"Reprovado\")"
      ],
      "metadata": {
        "id": "haJw04LNruxM"
      },
      "execution_count": null,
      "outputs": []
    },
    {
      "cell_type": "markdown",
      "source": [
        "Faça um Programa que leia três números e mostre o maior deles."
      ],
      "metadata": {
        "id": "lmNbIT31svat"
      }
    },
    {
      "cell_type": "code",
      "source": [
        "num1 = float(input(\"digite o 1° numero: \"))\n",
        "num2 = float(input(\"digite o 2° numero: \"))\n",
        "num3 = float(input(\"digite o 3° numero: \"))\n",
        "\n",
        "if num1 > num2 and num1 > num3:\n",
        "  print(\"maior numero deles: \", num1)\n",
        "elif num2 > num1 and num2 > num3:\n",
        "  print(\"maior numero deles: \", num2)\n",
        "elif num3 > num1 and num3 > num1:\n",
        "  print(\"maior numero deles: \", num3)\n",
        "else:\n",
        "  print(\"erro\")"
      ],
      "metadata": {
        "colab": {
          "base_uri": "https://localhost:8080/"
        },
        "id": "SD1xpjaEsv7d",
        "outputId": "e015fa2e-35f0-48a8-a4e7-7165004d5d52"
      },
      "execution_count": null,
      "outputs": [
        {
          "output_type": "stream",
          "name": "stdout",
          "text": [
            "digite o 1° numero: 9\n",
            "digite o 2° numero: 6\n",
            "digite o 3° numero: 4\n",
            "maior numero deles:  9.0\n"
          ]
        }
      ]
    },
    {
      "cell_type": "markdown",
      "source": [
        "Faça um Programa que leia três números e mostre o maior e o menor deles."
      ],
      "metadata": {
        "id": "ftLWt1TMuar3"
      }
    },
    {
      "cell_type": "code",
      "source": [
        "num1 = float(input(\"digite o 1° numero: \"))\n",
        "num2 = float(input(\"digite o 2° numero: \"))\n",
        "num3 = float(input(\"digite o 3° numero: \"))\n",
        "\n",
        "maior = a\n",
        "if num1 > num2 and num1 > num3:\n",
        "  a = num1\n",
        "elif num2 > num1 and num2 > num3:\n",
        "  a = num2\n",
        "elif num3 > num1 and num3 > num1:\n",
        "  a = num3\n",
        "else:\n",
        "  print(\"erro\")\n",
        "\n",
        "menor = b\n",
        "if num1 < num2  and num1 < num3:\n",
        "  b = num1\n",
        "elif num2 < num1 and num2 < num3:\n",
        "  b = num2\n",
        "elif num3 < num1 and num3 < num2:\n",
        "  b = num3\n",
        "else:\n",
        "  print(\"error\")\n",
        "\n",
        "print(\"maior numero é: \", a)\n",
        "print(\"menor numero é: \", b)\n",
        "\n"
      ],
      "metadata": {
        "id": "EwToFaUnubNO"
      },
      "execution_count": null,
      "outputs": []
    },
    {
      "cell_type": "markdown",
      "source": [
        "Faça um programa que pergunte o preço de três produtos e informe qual produto você deve comprar, sabendo que a decisão é sempre pelo mais barato.\n"
      ],
      "metadata": {
        "id": "hq9QpmvAzDPe"
      }
    },
    {
      "cell_type": "code",
      "source": [
        "num1 = float(input(\"digite o 1° numero: \"))\n",
        "num2 = float(input(\"digite o 2° numero: \"))\n",
        "num3 = float(input(\"digite o 3° numero: \"))\n",
        "\n",
        "menor = b\n",
        "if num1 < num2  and num1 < num3:\n",
        "  b = num1\n",
        "elif num2 < num1 and num2 < num3:\n",
        "  b = num2\n",
        "elif num3 < num1 and num3 < num2:\n",
        "  b = num3\n",
        "else:\n",
        "  print(\"error\")\n",
        "\n",
        "print(\"o mais barato é: \", b)"
      ],
      "metadata": {
        "id": "3PCGsLb9zIqf"
      },
      "execution_count": null,
      "outputs": []
    },
    {
      "cell_type": "markdown",
      "source": [
        "Faça um Programa que leia três números e mostre-os em ordem decrescente."
      ],
      "metadata": {
        "id": "Mds2IhXRzcmO"
      }
    },
    {
      "cell_type": "code",
      "source": [
        "num1 = float(input('digite o 1° numero: '))\n",
        "num2 = float(input('digite o 2° numero: '))\n",
        "num3 = float(input('digite o 3° numero: '))\n",
        "\n",
        "maior = a\n",
        "if num1 > num2 and num1 > num3:\n",
        "  a = num1\n",
        "elif num2 > num1 and num2 > num3:\n",
        "  a = num2\n",
        "elif num3 > num1 and num3 > num1:\n",
        "  a = num3\n",
        "else:\n",
        "  print(\"erro\")\n",
        "\n",
        "menor = b\n",
        "if num1 < num2  and num1 < num3:\n",
        "  b = num1\n",
        "elif num2 < num1 and num2 < num3:\n",
        "  b = num2\n",
        "elif num3 < num1 and num3 < num2:\n",
        "  b = num3\n",
        "else:\n",
        "  print(\"error\")\n",
        "\n",
        "medio = c\n",
        "if num1 != a and b:\n",
        "  c = num1\n",
        "elif num2 != a and b:\n",
        "  c = num2\n",
        "elif num3 != a and b:\n",
        "  c = num3\n",
        "else:\n",
        "  print(\"error\")\n",
        "\n",
        "\n",
        "print('maior numero: ', a)\n",
        "print('medio numero: ', c)\n",
        "print('menor numero: ', b)"
      ],
      "metadata": {
        "id": "7unv32Tgzed3",
        "colab": {
          "base_uri": "https://localhost:8080/"
        },
        "outputId": "709f74c5-bc4a-4125-ab77-0e4d5f771fe6"
      },
      "execution_count": 9,
      "outputs": [
        {
          "output_type": "stream",
          "name": "stdout",
          "text": [
            "digite o 1° numero: 92\n",
            "digite o 2° numero: 34\n",
            "digite o 3° numero: 10\n",
            "maior numero:  92.0\n",
            "medio numero:  34.0\n",
            "menor numero:  10.0\n"
          ]
        }
      ]
    },
    {
      "cell_type": "markdown",
      "source": [
        "Faça um Programa que pergunte em que turno você estuda. Peça para digitar M-matutino ou V-Vespertino ou N- Noturno. Imprima a mensagem \"Bom Dia!\", \"Boa Tarde!\" ou \"Boa Noite!\" ou \"Valor Inválido!\", conforme o caso."
      ],
      "metadata": {
        "id": "mxu2I1k2-X_l"
      }
    },
    {
      "cell_type": "code",
      "source": [
        "turno = str(input('digite o turno que você estuda: '))\n",
        "\n",
        "if turno == 'M':\n",
        "  print('Bom Dia!')\n",
        "elif turno == 'V':\n",
        "  print('Boa Tarde!')\n",
        "elif turno == 'N':\n",
        "  print('Boa Noite!')\n",
        "else:\n",
        "  print('Valor Inválido!')"
      ],
      "metadata": {
        "colab": {
          "base_uri": "https://localhost:8080/"
        },
        "id": "_LBXDwGG-Yk9",
        "outputId": "42e9cc06-4af8-4dfa-b5b7-bfedfdcc0834"
      },
      "execution_count": 24,
      "outputs": [
        {
          "output_type": "stream",
          "name": "stdout",
          "text": [
            "digite o turno que você estuda: N\n",
            "Boa Noite!\n"
          ]
        }
      ]
    },
    {
      "cell_type": "markdown",
      "source": [
        "As Organizações Tabajara resolveram dar um aumento de salário aos seus colaboradores e lhe contraram para desenvolver o programa que calculará os reajustes.\n",
        "Faça um programa que recebe o salário de um colaborador e o reajuste segundo o seguinte critério, baseado no salário atual:\n",
        "* salários até R$ 280,00 (incluindo): aumento de 20%\n",
        "\n",
        "* salários entre RS 280.00 e R$ 700,00 : aumento de 15%\n",
        "\n",
        "* salários entre RS 700,00 e R$ 1500,00 : aumento de 10%\n",
        "\n",
        "* salários de R$ 1500,00 em diante : aumento de 5% Após o aumento ser realizado, informe na tela:\n",
        "* o salário antes do reajuste;\n",
        "* o percentual de aumento aplicado;\n",
        "* o valor do aumento;\n",
        "* o novo salário, após o aumento."
      ],
      "metadata": {
        "id": "ZPnvDOgwCPDV"
      }
    },
    {
      "cell_type": "code",
      "source": [
        "print(\"Organizações Tabajara - Reajuste de salario\\n\")\n",
        "salario = float(input('\\ndigite o seu salário:'))\n",
        "\n",
        "if salario <= 280:\n",
        "  p = float(0.2)\n",
        "  v = salario * p\n",
        "  s_aumento = salario + v\n",
        "  p = '20%'\n",
        "elif salario > 280 and salario < 700:\n",
        "  p = float(0.15)\n",
        "  v = salario * p\n",
        "  s_aumento = salario + v\n",
        "elif salario > 700 and salario < 1500:\n",
        "  p = float(0.10)\n",
        "  v = salario * p\n",
        "  s_aumento = salario + v\n",
        "elif salario > 1500:\n",
        "  p = float(0.05)\n",
        "  v = salario * p\n",
        "  s_aumento = salario + v\n",
        "else:\n",
        "  print('error')\n",
        "\n",
        "print('\\nsalario antes do reajuste: ', salario)\n",
        "print('\\npercentual de aumento aplicado ao salario:', p)\n",
        "print('\\nvalor do aumento: %.2f ' % (v))\n",
        "print('\\nnovo salário, após o aumento:', s_aumento)"
      ],
      "metadata": {
        "colab": {
          "base_uri": "https://localhost:8080/"
        },
        "id": "RHlvux7jCzcS",
        "outputId": "cc2b1d39-6860-431e-b6e0-5c787aed4243"
      },
      "execution_count": 27,
      "outputs": [
        {
          "output_type": "stream",
          "name": "stdout",
          "text": [
            "Organizações Tabajara - Reajuste de salario\n",
            "\n",
            "\n",
            "digite o seu salário:750\n",
            "\n",
            "salario antes do reajuste:  750.0\n",
            "\n",
            "percentual de aumento aplicado ao salario: 0.1\n",
            "\n",
            "valor do aumento: 75.00 \n",
            "\n",
            "novo salário, após o aumento: 825.0\n"
          ]
        }
      ]
    },
    {
      "cell_type": "markdown",
      "source": [
        "# Exercicios Repetição\n",
        "\n"
      ],
      "metadata": {
        "id": "2a1zG-95aAks"
      }
    },
    {
      "cell_type": "markdown",
      "source": [
        "# Exercicios De Lista\n",
        "\n",
        "\n"
      ],
      "metadata": {
        "id": "TaQcQADXaDPU"
      }
    },
    {
      "cell_type": "markdown",
      "source": [
        "# Exercicios De Funções\n",
        "\n"
      ],
      "metadata": {
        "id": "CkrI1TIhaZk5"
      }
    },
    {
      "cell_type": "markdown",
      "source": [
        "# Exercicios De Com Strings\n",
        "\n",
        "\n"
      ],
      "metadata": {
        "id": "Ul7aewWTaZ15"
      }
    },
    {
      "cell_type": "markdown",
      "source": [
        "# Exercicios Com Arquivos\n",
        "\n",
        "\n"
      ],
      "metadata": {
        "id": "3_xSITDVabFp"
      }
    },
    {
      "cell_type": "markdown",
      "source": [
        "# Exercicios De Classes\n",
        "\n",
        "\n"
      ],
      "metadata": {
        "id": "f8rPtUd8ab8X"
      }
    },
    {
      "cell_type": "markdown",
      "source": [
        "# lista de exercicios projetos\n",
        "\n",
        "\n"
      ],
      "metadata": {
        "id": "U8-E-tuwaccv"
      }
    }
  ]
}